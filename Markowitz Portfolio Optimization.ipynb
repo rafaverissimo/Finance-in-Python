{
 "cells": [
  {
   "cell_type": "code",
   "execution_count": 1,
   "metadata": {},
   "outputs": [],
   "source": [
    "import pandas as pd\n",
    "import quandl"
   ]
  },
  {
   "cell_type": "code",
   "execution_count": 2,
   "metadata": {},
   "outputs": [],
   "source": [
    "quandl.ApiConfig.api_key = \"n4qQPMxtozM5Ts6iqy4w\""
   ]
  },
  {
   "cell_type": "code",
   "execution_count": 3,
   "metadata": {},
   "outputs": [],
   "source": [
    "start_date=pd.to_datetime(\"2013-01-01\")\n",
    "end_date=pd.to_datetime(\"2018-01-01\")"
   ]
  },
  {
   "cell_type": "code",
   "execution_count": 4,
   "metadata": {},
   "outputs": [],
   "source": [
    "aapl_stk=quandl.get(\"WIKI/AAPL.11\",start_date=start_date,end_date=end_date)\n",
    "cisco_stk=quandl.get(\"WIKI/CSCO.11\",start_date=start_date,end_date=end_date)\n",
    "ibm_stk=quandl.get(\"WIKI/IBM.11\",start_date=start_date,end_date=end_date)\n",
    "amzn_stk=quandl.get(\"WIKI/AMZN.11\",start_date=start_date,end_date=end_date)"
   ]
  },
  {
   "cell_type": "code",
   "execution_count": 5,
   "metadata": {},
   "outputs": [],
   "source": [
    "aapl_stk.to_csv(\"AAPL_CLOSE\")\n",
    "cisco_stk.to_csv(\"CISCO_CLOSE\")\n",
    "ibm_stk.to_csv(\"IBM_CLOSE\")\n",
    "amzn_stk.to_csv(\"AMZN_CLOSE\")"
   ]
  },
  {
   "cell_type": "code",
   "execution_count": 6,
   "metadata": {},
   "outputs": [],
   "source": [
    "aapl=pd.read_csv(\"AAPL_CLOSE\", index_col=\"Date\", parse_dates=True)\n",
    "cisco=pd.read_csv(\"CISCO_CLOSE\",index_col=\"Date\", parse_dates=True)\n",
    "ibm=pd.read_csv(\"IBM_CLOSE\",index_col=\"Date\", parse_dates=True)\n",
    "amzn=pd.read_csv(\"AMZN_CLOSE\",index_col=\"Date\", parse_dates=True)"
   ]
  },
  {
   "cell_type": "code",
   "execution_count": 7,
   "metadata": {},
   "outputs": [],
   "source": [
    "for df_stock in (aapl, cisco, ibm, amzn):\n",
    "    df_stock[\"Normalize Return\"]=df_stock[\"Adj. Close\"]/df_stock.iloc[0][\"Adj. Close\"]"
   ]
  },
  {
   "cell_type": "code",
   "execution_count": 8,
   "metadata": {},
   "outputs": [
    {
     "data": {
      "text/html": [
       "<div>\n",
       "<style scoped>\n",
       "    .dataframe tbody tr th:only-of-type {\n",
       "        vertical-align: middle;\n",
       "    }\n",
       "\n",
       "    .dataframe tbody tr th {\n",
       "        vertical-align: top;\n",
       "    }\n",
       "\n",
       "    .dataframe thead th {\n",
       "        text-align: right;\n",
       "    }\n",
       "</style>\n",
       "<table border=\"1\" class=\"dataframe\">\n",
       "  <thead>\n",
       "    <tr style=\"text-align: right;\">\n",
       "      <th></th>\n",
       "      <th>Adj. Close</th>\n",
       "      <th>Normalize Return</th>\n",
       "    </tr>\n",
       "    <tr>\n",
       "      <th>Date</th>\n",
       "      <th></th>\n",
       "      <th></th>\n",
       "    </tr>\n",
       "  </thead>\n",
       "  <tbody>\n",
       "    <tr>\n",
       "      <th>2013-01-02</th>\n",
       "      <td>71.195748</td>\n",
       "      <td>1.000000</td>\n",
       "    </tr>\n",
       "    <tr>\n",
       "      <th>2013-01-03</th>\n",
       "      <td>70.296565</td>\n",
       "      <td>0.987370</td>\n",
       "    </tr>\n",
       "    <tr>\n",
       "      <th>2013-01-04</th>\n",
       "      <td>68.338996</td>\n",
       "      <td>0.959875</td>\n",
       "    </tr>\n",
       "    <tr>\n",
       "      <th>2013-01-07</th>\n",
       "      <td>67.937002</td>\n",
       "      <td>0.954228</td>\n",
       "    </tr>\n",
       "    <tr>\n",
       "      <th>2013-01-08</th>\n",
       "      <td>68.119845</td>\n",
       "      <td>0.956797</td>\n",
       "    </tr>\n",
       "    <tr>\n",
       "      <th>2013-01-09</th>\n",
       "      <td>67.055209</td>\n",
       "      <td>0.941843</td>\n",
       "    </tr>\n",
       "    <tr>\n",
       "      <th>2013-01-10</th>\n",
       "      <td>67.886429</td>\n",
       "      <td>0.953518</td>\n",
       "    </tr>\n",
       "    <tr>\n",
       "      <th>2013-01-11</th>\n",
       "      <td>67.470170</td>\n",
       "      <td>0.947671</td>\n",
       "    </tr>\n",
       "    <tr>\n",
       "      <th>2013-01-14</th>\n",
       "      <td>65.064689</td>\n",
       "      <td>0.913884</td>\n",
       "    </tr>\n",
       "    <tr>\n",
       "      <th>2013-01-15</th>\n",
       "      <td>63.011926</td>\n",
       "      <td>0.885052</td>\n",
       "    </tr>\n",
       "  </tbody>\n",
       "</table>\n",
       "</div>"
      ],
      "text/plain": [
       "            Adj. Close  Normalize Return\n",
       "Date                                    \n",
       "2013-01-02   71.195748          1.000000\n",
       "2013-01-03   70.296565          0.987370\n",
       "2013-01-04   68.338996          0.959875\n",
       "2013-01-07   67.937002          0.954228\n",
       "2013-01-08   68.119845          0.956797\n",
       "2013-01-09   67.055209          0.941843\n",
       "2013-01-10   67.886429          0.953518\n",
       "2013-01-11   67.470170          0.947671\n",
       "2013-01-14   65.064689          0.913884\n",
       "2013-01-15   63.011926          0.885052"
      ]
     },
     "execution_count": 8,
     "metadata": {},
     "output_type": "execute_result"
    }
   ],
   "source": [
    "aapl.head(10)"
   ]
  },
  {
   "cell_type": "markdown",
   "metadata": {},
   "source": [
    "### Lets consider a $1.000.000 portfolio that is allocated to the four companies in the following way:\n",
    "\n",
    "- 30% Apple\n",
    "- 20% Google\n",
    "- 10% IBM\n",
    "- 40 % Amazon"
   ]
  },
  {
   "cell_type": "code",
   "execution_count": 9,
   "metadata": {},
   "outputs": [],
   "source": [
    "for df_stock,allocation in zip([aapl, cisco, ibm, amzn],[.3,.2,.1,.4]):\n",
    "    df_stock[\"Allocation\"]=df_stock[\"Normalize Return\"]*allocation"
   ]
  },
  {
   "cell_type": "code",
   "execution_count": 10,
   "metadata": {},
   "outputs": [
    {
     "data": {
      "text/html": [
       "<div>\n",
       "<style scoped>\n",
       "    .dataframe tbody tr th:only-of-type {\n",
       "        vertical-align: middle;\n",
       "    }\n",
       "\n",
       "    .dataframe tbody tr th {\n",
       "        vertical-align: top;\n",
       "    }\n",
       "\n",
       "    .dataframe thead th {\n",
       "        text-align: right;\n",
       "    }\n",
       "</style>\n",
       "<table border=\"1\" class=\"dataframe\">\n",
       "  <thead>\n",
       "    <tr style=\"text-align: right;\">\n",
       "      <th></th>\n",
       "      <th>Adj. Close</th>\n",
       "      <th>Normalize Return</th>\n",
       "      <th>Allocation</th>\n",
       "    </tr>\n",
       "    <tr>\n",
       "      <th>Date</th>\n",
       "      <th></th>\n",
       "      <th></th>\n",
       "      <th></th>\n",
       "    </tr>\n",
       "  </thead>\n",
       "  <tbody>\n",
       "    <tr>\n",
       "      <th>2013-01-02</th>\n",
       "      <td>71.195748</td>\n",
       "      <td>1.000000</td>\n",
       "      <td>0.300000</td>\n",
       "    </tr>\n",
       "    <tr>\n",
       "      <th>2013-01-03</th>\n",
       "      <td>70.296565</td>\n",
       "      <td>0.987370</td>\n",
       "      <td>0.296211</td>\n",
       "    </tr>\n",
       "    <tr>\n",
       "      <th>2013-01-04</th>\n",
       "      <td>68.338996</td>\n",
       "      <td>0.959875</td>\n",
       "      <td>0.287962</td>\n",
       "    </tr>\n",
       "    <tr>\n",
       "      <th>2013-01-07</th>\n",
       "      <td>67.937002</td>\n",
       "      <td>0.954228</td>\n",
       "      <td>0.286269</td>\n",
       "    </tr>\n",
       "    <tr>\n",
       "      <th>2013-01-08</th>\n",
       "      <td>68.119845</td>\n",
       "      <td>0.956797</td>\n",
       "      <td>0.287039</td>\n",
       "    </tr>\n",
       "  </tbody>\n",
       "</table>\n",
       "</div>"
      ],
      "text/plain": [
       "            Adj. Close  Normalize Return  Allocation\n",
       "Date                                                \n",
       "2013-01-02   71.195748          1.000000    0.300000\n",
       "2013-01-03   70.296565          0.987370    0.296211\n",
       "2013-01-04   68.338996          0.959875    0.287962\n",
       "2013-01-07   67.937002          0.954228    0.286269\n",
       "2013-01-08   68.119845          0.956797    0.287039"
      ]
     },
     "execution_count": 10,
     "metadata": {},
     "output_type": "execute_result"
    }
   ],
   "source": [
    "aapl.head()"
   ]
  },
  {
   "cell_type": "code",
   "execution_count": 11,
   "metadata": {},
   "outputs": [],
   "source": [
    "for df_stock in (aapl, cisco, ibm, amzn):\n",
    "    df_stock[\"Position Values\"]=df_stock[\"Allocation\"]*1000000"
   ]
  },
  {
   "cell_type": "code",
   "execution_count": 12,
   "metadata": {},
   "outputs": [
    {
     "data": {
      "text/html": [
       "<div>\n",
       "<style scoped>\n",
       "    .dataframe tbody tr th:only-of-type {\n",
       "        vertical-align: middle;\n",
       "    }\n",
       "\n",
       "    .dataframe tbody tr th {\n",
       "        vertical-align: top;\n",
       "    }\n",
       "\n",
       "    .dataframe thead th {\n",
       "        text-align: right;\n",
       "    }\n",
       "</style>\n",
       "<table border=\"1\" class=\"dataframe\">\n",
       "  <thead>\n",
       "    <tr style=\"text-align: right;\">\n",
       "      <th></th>\n",
       "      <th>Adj. Close</th>\n",
       "      <th>Normalize Return</th>\n",
       "      <th>Allocation</th>\n",
       "      <th>Position Values</th>\n",
       "    </tr>\n",
       "    <tr>\n",
       "      <th>Date</th>\n",
       "      <th></th>\n",
       "      <th></th>\n",
       "      <th></th>\n",
       "      <th></th>\n",
       "    </tr>\n",
       "  </thead>\n",
       "  <tbody>\n",
       "    <tr>\n",
       "      <th>2013-01-02</th>\n",
       "      <td>71.195748</td>\n",
       "      <td>1.000000</td>\n",
       "      <td>0.300000</td>\n",
       "      <td>300000.000000</td>\n",
       "    </tr>\n",
       "    <tr>\n",
       "      <th>2013-01-03</th>\n",
       "      <td>70.296565</td>\n",
       "      <td>0.987370</td>\n",
       "      <td>0.296211</td>\n",
       "      <td>296211.081362</td>\n",
       "    </tr>\n",
       "    <tr>\n",
       "      <th>2013-01-04</th>\n",
       "      <td>68.338996</td>\n",
       "      <td>0.959875</td>\n",
       "      <td>0.287962</td>\n",
       "      <td>287962.406426</td>\n",
       "    </tr>\n",
       "    <tr>\n",
       "      <th>2013-01-07</th>\n",
       "      <td>67.937002</td>\n",
       "      <td>0.954228</td>\n",
       "      <td>0.286269</td>\n",
       "      <td>286268.509917</td>\n",
       "    </tr>\n",
       "    <tr>\n",
       "      <th>2013-01-08</th>\n",
       "      <td>68.119845</td>\n",
       "      <td>0.956797</td>\n",
       "      <td>0.287039</td>\n",
       "      <td>287038.959620</td>\n",
       "    </tr>\n",
       "  </tbody>\n",
       "</table>\n",
       "</div>"
      ],
      "text/plain": [
       "            Adj. Close  Normalize Return  Allocation  Position Values\n",
       "Date                                                                 \n",
       "2013-01-02   71.195748          1.000000    0.300000    300000.000000\n",
       "2013-01-03   70.296565          0.987370    0.296211    296211.081362\n",
       "2013-01-04   68.338996          0.959875    0.287962    287962.406426\n",
       "2013-01-07   67.937002          0.954228    0.286269    286268.509917\n",
       "2013-01-08   68.119845          0.956797    0.287039    287038.959620"
      ]
     },
     "execution_count": 12,
     "metadata": {},
     "output_type": "execute_result"
    }
   ],
   "source": [
    "aapl.head()"
   ]
  },
  {
   "cell_type": "code",
   "execution_count": 13,
   "metadata": {},
   "outputs": [],
   "source": [
    "portfolio=pd.concat([aapl[\"Position Values\"],cisco[\"Position Values\"],ibm[\"Position Values\"],amzn[\"Position Values\"]],axis=1)\n",
    "portfolio.columns=[\"Apple Pos\", \"Cisco Pos\", \"IBM Pos\", \"Amazon Pos\"]"
   ]
  },
  {
   "cell_type": "code",
   "execution_count": 14,
   "metadata": {},
   "outputs": [],
   "source": [
    "portfolio[\"Final Pos\"]=portfolio.sum(axis=1)"
   ]
  },
  {
   "cell_type": "code",
   "execution_count": 15,
   "metadata": {},
   "outputs": [],
   "source": [
    "import matplotlib.pyplot as plt\n",
    "%matplotlib inline"
   ]
  },
  {
   "cell_type": "code",
   "execution_count": 16,
   "metadata": {},
   "outputs": [
    {
     "data": {
      "text/plain": [
       "Text(0.5, 1.0, 'Total Portfolio Value')"
      ]
     },
     "execution_count": 16,
     "metadata": {},
     "output_type": "execute_result"
    },
    {
     "data": {
      "image/png": "[encoded data removed]",
      "text/plain": [
       "<Figure size 720x576 with 1 Axes>"
      ]
     },
     "metadata": {
      "needs_background": "light"
     },
     "output_type": "display_data"
    }
   ],
   "source": [
    "portfolio[\"Final Pos\"].plot(figsize=(10,8))\n",
    "plt.title(\"Total Portfolio Value\")"
   ]
  },
  {
   "cell_type": "code",
   "execution_count": 17,
   "metadata": {},
   "outputs": [
    {
     "data": {
      "text/html": [
       "<div>\n",
       "<style scoped>\n",
       "    .dataframe tbody tr th:only-of-type {\n",
       "        vertical-align: middle;\n",
       "    }\n",
       "\n",
       "    .dataframe tbody tr th {\n",
       "        vertical-align: top;\n",
       "    }\n",
       "\n",
       "    .dataframe thead th {\n",
       "        text-align: right;\n",
       "    }\n",
       "</style>\n",
       "<table border=\"1\" class=\"dataframe\">\n",
       "  <thead>\n",
       "    <tr style=\"text-align: right;\">\n",
       "      <th></th>\n",
       "      <th>Apple Pos</th>\n",
       "      <th>Cisco Pos</th>\n",
       "      <th>IBM Pos</th>\n",
       "      <th>Amazon Pos</th>\n",
       "      <th>Final Pos</th>\n",
       "    </tr>\n",
       "    <tr>\n",
       "      <th>Date</th>\n",
       "      <th></th>\n",
       "      <th></th>\n",
       "      <th></th>\n",
       "      <th></th>\n",
       "      <th></th>\n",
       "    </tr>\n",
       "  </thead>\n",
       "  <tbody>\n",
       "    <tr>\n",
       "      <th>2017-08-07</th>\n",
       "      <td>NaN</td>\n",
       "      <td>361749.153983</td>\n",
       "      <td>83230.557839</td>\n",
       "      <td>NaN</td>\n",
       "      <td>444979.711821</td>\n",
       "    </tr>\n",
       "  </tbody>\n",
       "</table>\n",
       "</div>"
      ],
      "text/plain": [
       "            Apple Pos      Cisco Pos       IBM Pos  Amazon Pos      Final Pos\n",
       "Date                                                                         \n",
       "2017-08-07        NaN  361749.153983  83230.557839         NaN  444979.711821"
      ]
     },
     "execution_count": 17,
     "metadata": {},
     "output_type": "execute_result"
    }
   ],
   "source": [
    "portfolio[portfolio[\"Final Pos\"] < 800000]"
   ]
  },
  {
   "cell_type": "code",
   "execution_count": 18,
   "metadata": {},
   "outputs": [],
   "source": [
    "portfolio.loc[\"2017-08-07\"][\"Apple Pos\"]=(portfolio.loc[\"2017-09-07\"][\"Apple Pos\"]+portfolio.loc[\"2017-07-07\"][\"Apple Pos\"])/2\n",
    "portfolio.loc[\"2017-08-07\"][\"Amazon Pos\"]=(portfolio.loc[\"2017-09-07\"][\"Amazon Pos\"]+portfolio.loc[\"2017-07-07\"][\"Amazon Pos\"])/2"
   ]
  },
  {
   "cell_type": "code",
   "execution_count": 19,
   "metadata": {},
   "outputs": [],
   "source": [
    "portfolio=portfolio.drop(\"Final Pos\",axis=1)\n",
    "portfolio[\"Final Pos\"]=portfolio.sum(axis=1)"
   ]
  },
  {
   "cell_type": "code",
   "execution_count": 20,
   "metadata": {},
   "outputs": [
    {
     "data": {
      "text/html": [
       "<div>\n",
       "<style scoped>\n",
       "    .dataframe tbody tr th:only-of-type {\n",
       "        vertical-align: middle;\n",
       "    }\n",
       "\n",
       "    .dataframe tbody tr th {\n",
       "        vertical-align: top;\n",
       "    }\n",
       "\n",
       "    .dataframe thead th {\n",
       "        text-align: right;\n",
       "    }\n",
       "</style>\n",
       "<table border=\"1\" class=\"dataframe\">\n",
       "  <thead>\n",
       "    <tr style=\"text-align: right;\">\n",
       "      <th></th>\n",
       "      <th>Apple Pos</th>\n",
       "      <th>Cisco Pos</th>\n",
       "      <th>IBM Pos</th>\n",
       "      <th>Amazon Pos</th>\n",
       "      <th>Final Pos</th>\n",
       "    </tr>\n",
       "    <tr>\n",
       "      <th>Date</th>\n",
       "      <th></th>\n",
       "      <th></th>\n",
       "      <th></th>\n",
       "      <th></th>\n",
       "      <th></th>\n",
       "    </tr>\n",
       "  </thead>\n",
       "  <tbody>\n",
       "    <tr>\n",
       "      <th>2013-01-02</th>\n",
       "      <td>300000.000000</td>\n",
       "      <td>200000.000000</td>\n",
       "      <td>100000.000000</td>\n",
       "      <td>400000.000000</td>\n",
       "      <td>1.000000e+06</td>\n",
       "    </tr>\n",
       "    <tr>\n",
       "      <th>2013-01-03</th>\n",
       "      <td>296211.081362</td>\n",
       "      <td>201081.612586</td>\n",
       "      <td>99449.961803</td>\n",
       "      <td>401818.817768</td>\n",
       "      <td>9.985615e+05</td>\n",
       "    </tr>\n",
       "    <tr>\n",
       "      <th>2013-01-04</th>\n",
       "      <td>287962.406426</td>\n",
       "      <td>201395.280236</td>\n",
       "      <td>98798.064680</td>\n",
       "      <td>402860.362986</td>\n",
       "      <td>9.910161e+05</td>\n",
       "    </tr>\n",
       "    <tr>\n",
       "      <th>2013-01-07</th>\n",
       "      <td>286268.509917</td>\n",
       "      <td>199511.307768</td>\n",
       "      <td>98365.164248</td>\n",
       "      <td>417331.934243</td>\n",
       "      <td>1.001477e+06</td>\n",
       "    </tr>\n",
       "    <tr>\n",
       "      <th>2013-01-08</th>\n",
       "      <td>287038.959620</td>\n",
       "      <td>199705.014749</td>\n",
       "      <td>98227.654698</td>\n",
       "      <td>414099.724068</td>\n",
       "      <td>9.990714e+05</td>\n",
       "    </tr>\n",
       "  </tbody>\n",
       "</table>\n",
       "</div>"
      ],
      "text/plain": [
       "                Apple Pos      Cisco Pos        IBM Pos     Amazon Pos  \\\n",
       "Date                                                                     \n",
       "2013-01-02  300000.000000  200000.000000  100000.000000  400000.000000   \n",
       "2013-01-03  296211.081362  201081.612586   99449.961803  401818.817768   \n",
       "2013-01-04  287962.406426  201395.280236   98798.064680  402860.362986   \n",
       "2013-01-07  286268.509917  199511.307768   98365.164248  417331.934243   \n",
       "2013-01-08  287038.959620  199705.014749   98227.654698  414099.724068   \n",
       "\n",
       "               Final Pos  \n",
       "Date                      \n",
       "2013-01-02  1.000000e+06  \n",
       "2013-01-03  9.985615e+05  \n",
       "2013-01-04  9.910161e+05  \n",
       "2013-01-07  1.001477e+06  \n",
       "2013-01-08  9.990714e+05  "
      ]
     },
     "execution_count": 20,
     "metadata": {},
     "output_type": "execute_result"
    }
   ],
   "source": [
    "portfolio.head()"
   ]
  },
  {
   "cell_type": "code",
   "execution_count": 21,
   "metadata": {},
   "outputs": [
    {
     "data": {
      "text/plain": [
       "Text(0.5, 1.0, 'Total Portfolio Value')"
      ]
     },
     "execution_count": 21,
     "metadata": {},
     "output_type": "execute_result"
    },
    {
     "data": {
      "image/png": "[encoded data removed]",
      "text/plain": [
       "<Figure size 720x576 with 1 Axes>"
      ]
     },
     "metadata": {
      "needs_background": "light"
     },
     "output_type": "display_data"
    }
   ],
   "source": [
    "portfolio[\"Final Pos\"].plot(figsize=(10,8))\n",
    "plt.title(\"Total Portfolio Value\")"
   ]
  },
  {
   "cell_type": "code",
   "execution_count": 22,
   "metadata": {},
   "outputs": [
    {
     "data": {
      "text/plain": [
       "<matplotlib.axes._subplots.AxesSubplot at 0x7f72d857e190>"
      ]
     },
     "execution_count": 22,
     "metadata": {},
     "output_type": "execute_result"
    },
    {
     "data": {
      "image/png": "[encoded data removed]",
      "text/plain": [
       "<Figure size 432x288 with 1 Axes>"
      ]
     },
     "metadata": {
      "needs_background": "light"
     },
     "output_type": "display_data"
    }
   ],
   "source": [
    "portfolio.drop(\"Final Pos\",axis=1).plot(kind=\"line\")"
   ]
  },
  {
   "cell_type": "code",
   "execution_count": 23,
   "metadata": {},
   "outputs": [],
   "source": [
    "import numpy as np\n",
    "test=pd.concat([aapl[\"Adj. Close\"],cisco[\"Adj. Close\"],ibm[\"Adj. Close\"],amzn[\"Adj. Close\"]],axis=1)"
   ]
  },
  {
   "cell_type": "code",
   "execution_count": 24,
   "metadata": {},
   "outputs": [],
   "source": [
    "test.columns=[\"Apple Close\", \"Cisco Close\", \"IBM Close\", \"Amazon Close\"]"
   ]
  },
  {
   "cell_type": "code",
   "execution_count": 25,
   "metadata": {},
   "outputs": [],
   "source": [
    "test.loc[\"2017-08-07\"][\"Apple Close\"]=(test.loc[\"2017-09-07\"][\"Apple Close\"]+test.loc[\"2017-07-07\"][\"Apple Close\"])/2\n",
    "test.loc[\"2017-08-07\"][\"Amazon Close\"]=(test.loc[\"2017-09-07\"][\"Amazon Close\"]+test.loc[\"2017-07-07\"][\"Amazon Close\"])/2"
   ]
  },
  {
   "cell_type": "code",
   "execution_count": 26,
   "metadata": {},
   "outputs": [
    {
     "data": {
      "text/html": [
       "<div>\n",
       "<style scoped>\n",
       "    .dataframe tbody tr th:only-of-type {\n",
       "        vertical-align: middle;\n",
       "    }\n",
       "\n",
       "    .dataframe tbody tr th {\n",
       "        vertical-align: top;\n",
       "    }\n",
       "\n",
       "    .dataframe thead th {\n",
       "        text-align: right;\n",
       "    }\n",
       "</style>\n",
       "<table border=\"1\" class=\"dataframe\">\n",
       "  <thead>\n",
       "    <tr style=\"text-align: right;\">\n",
       "      <th></th>\n",
       "      <th>Apple Close</th>\n",
       "      <th>Cisco Close</th>\n",
       "      <th>IBM Close</th>\n",
       "      <th>Amazon Close</th>\n",
       "    </tr>\n",
       "    <tr>\n",
       "      <th>Date</th>\n",
       "      <th></th>\n",
       "      <th></th>\n",
       "      <th></th>\n",
       "      <th></th>\n",
       "    </tr>\n",
       "  </thead>\n",
       "  <tbody>\n",
       "    <tr>\n",
       "      <th>2013-01-02</th>\n",
       "      <td>71.195748</td>\n",
       "      <td>17.452010</td>\n",
       "      <td>168.890592</td>\n",
       "      <td>257.3100</td>\n",
       "    </tr>\n",
       "    <tr>\n",
       "      <th>2013-01-03</th>\n",
       "      <td>70.296565</td>\n",
       "      <td>17.546392</td>\n",
       "      <td>167.961630</td>\n",
       "      <td>258.4800</td>\n",
       "    </tr>\n",
       "    <tr>\n",
       "      <th>2013-01-04</th>\n",
       "      <td>68.338996</td>\n",
       "      <td>17.573762</td>\n",
       "      <td>166.860637</td>\n",
       "      <td>259.1500</td>\n",
       "    </tr>\n",
       "    <tr>\n",
       "      <th>2013-01-07</th>\n",
       "      <td>67.937002</td>\n",
       "      <td>17.409367</td>\n",
       "      <td>166.129509</td>\n",
       "      <td>268.4592</td>\n",
       "    </tr>\n",
       "    <tr>\n",
       "      <th>2013-01-08</th>\n",
       "      <td>68.119845</td>\n",
       "      <td>17.426270</td>\n",
       "      <td>165.897268</td>\n",
       "      <td>266.3800</td>\n",
       "    </tr>\n",
       "  </tbody>\n",
       "</table>\n",
       "</div>"
      ],
      "text/plain": [
       "            Apple Close  Cisco Close   IBM Close  Amazon Close\n",
       "Date                                                          \n",
       "2013-01-02    71.195748    17.452010  168.890592      257.3100\n",
       "2013-01-03    70.296565    17.546392  167.961630      258.4800\n",
       "2013-01-04    68.338996    17.573762  166.860637      259.1500\n",
       "2013-01-07    67.937002    17.409367  166.129509      268.4592\n",
       "2013-01-08    68.119845    17.426270  165.897268      266.3800"
      ]
     },
     "execution_count": 26,
     "metadata": {},
     "output_type": "execute_result"
    }
   ],
   "source": [
    "test.head()"
   ]
  },
  {
   "cell_type": "code",
   "execution_count": 27,
   "metadata": {},
   "outputs": [
    {
     "data": {
      "text/plain": [
       "<matplotlib.axes._subplots.AxesSubplot at 0x7f72a79b8910>"
      ]
     },
     "execution_count": 27,
     "metadata": {},
     "output_type": "execute_result"
    },
    {
     "data": {
      "image/png": "[encoded data removed]",
      "text/plain": [
       "<Figure size 792x432 with 1 Axes>"
      ]
     },
     "metadata": {
      "needs_background": "light"
     },
     "output_type": "display_data"
    }
   ],
   "source": [
    "(test/test.iloc[0]*100).plot(figsize=(11,6))"
   ]
  },
  {
   "cell_type": "code",
   "execution_count": 28,
   "metadata": {},
   "outputs": [],
   "source": [
    "log_returns=np.log(test/test.shift(1))"
   ]
  },
  {
   "cell_type": "code",
   "execution_count": 29,
   "metadata": {},
   "outputs": [
    {
     "data": {
      "text/html": [
       "<div>\n",
       "<style scoped>\n",
       "    .dataframe tbody tr th:only-of-type {\n",
       "        vertical-align: middle;\n",
       "    }\n",
       "\n",
       "    .dataframe tbody tr th {\n",
       "        vertical-align: top;\n",
       "    }\n",
       "\n",
       "    .dataframe thead th {\n",
       "        text-align: right;\n",
       "    }\n",
       "</style>\n",
       "<table border=\"1\" class=\"dataframe\">\n",
       "  <thead>\n",
       "    <tr style=\"text-align: right;\">\n",
       "      <th></th>\n",
       "      <th>Apple Close</th>\n",
       "      <th>Cisco Close</th>\n",
       "      <th>IBM Close</th>\n",
       "      <th>Amazon Close</th>\n",
       "    </tr>\n",
       "    <tr>\n",
       "      <th>Date</th>\n",
       "      <th></th>\n",
       "      <th></th>\n",
       "      <th></th>\n",
       "      <th></th>\n",
       "    </tr>\n",
       "  </thead>\n",
       "  <tbody>\n",
       "    <tr>\n",
       "      <th>2013-01-02</th>\n",
       "      <td>NaN</td>\n",
       "      <td>NaN</td>\n",
       "      <td>NaN</td>\n",
       "      <td>NaN</td>\n",
       "    </tr>\n",
       "    <tr>\n",
       "      <th>2013-01-03</th>\n",
       "      <td>-0.012710</td>\n",
       "      <td>0.005393</td>\n",
       "      <td>-0.005516</td>\n",
       "      <td>0.004537</td>\n",
       "    </tr>\n",
       "    <tr>\n",
       "      <th>2013-01-04</th>\n",
       "      <td>-0.028242</td>\n",
       "      <td>0.001559</td>\n",
       "      <td>-0.006577</td>\n",
       "      <td>0.002589</td>\n",
       "    </tr>\n",
       "    <tr>\n",
       "      <th>2013-01-07</th>\n",
       "      <td>-0.005900</td>\n",
       "      <td>-0.009399</td>\n",
       "      <td>-0.004391</td>\n",
       "      <td>0.035292</td>\n",
       "    </tr>\n",
       "    <tr>\n",
       "      <th>2013-01-08</th>\n",
       "      <td>0.002688</td>\n",
       "      <td>0.000970</td>\n",
       "      <td>-0.001399</td>\n",
       "      <td>-0.007775</td>\n",
       "    </tr>\n",
       "  </tbody>\n",
       "</table>\n",
       "</div>"
      ],
      "text/plain": [
       "            Apple Close  Cisco Close  IBM Close  Amazon Close\n",
       "Date                                                         \n",
       "2013-01-02          NaN          NaN        NaN           NaN\n",
       "2013-01-03    -0.012710     0.005393  -0.005516      0.004537\n",
       "2013-01-04    -0.028242     0.001559  -0.006577      0.002589\n",
       "2013-01-07    -0.005900    -0.009399  -0.004391      0.035292\n",
       "2013-01-08     0.002688     0.000970  -0.001399     -0.007775"
      ]
     },
     "execution_count": 29,
     "metadata": {},
     "output_type": "execute_result"
    }
   ],
   "source": [
    "log_returns.head()"
   ]
  },
  {
   "cell_type": "markdown",
   "metadata": {},
   "source": [
    "### Now, we will calculate:\n",
    "- Mean\n",
    "- Covariance\n",
    "- Correlation Matirce"
   ]
  },
  {
   "cell_type": "code",
   "execution_count": 30,
   "metadata": {},
   "outputs": [],
   "source": [
    "l_mean=log_returns.mean()  \n",
    "l_cov=log_returns.cov() "
   ]
  },
  {
   "cell_type": "code",
   "execution_count": 31,
   "metadata": {},
   "outputs": [],
   "source": [
    "l_coor=log_returns.corr()"
   ]
  },
  {
   "cell_type": "code",
   "execution_count": 32,
   "metadata": {},
   "outputs": [
    {
     "data": {
      "text/plain": [
       "array([0.34079865, 0.16977217, 0.30845507, 0.18097411])"
      ]
     },
     "execution_count": 32,
     "metadata": {},
     "output_type": "execute_result"
    }
   ],
   "source": [
    "weights= np.random.random(4)\n",
    "weights/=np.sum(weights)\n",
    "weights"
   ]
  },
  {
   "cell_type": "code",
   "execution_count": 33,
   "metadata": {},
   "outputs": [
    {
     "data": {
      "text/plain": [
       "0.13382610353961186"
      ]
     },
     "execution_count": 33,
     "metadata": {},
     "output_type": "execute_result"
    }
   ],
   "source": [
    "#Expected return in one day, or we can multiply by 250 to see in one year\n",
    "np.sum(weights*l_mean) *250"
   ]
  },
  {
   "cell_type": "code",
   "execution_count": 34,
   "metadata": {},
   "outputs": [
    {
     "data": {
      "text/plain": [
       "0.024027442425032033"
      ]
     },
     "execution_count": 34,
     "metadata": {},
     "output_type": "execute_result"
    }
   ],
   "source": [
    "#Expected variance in one year\n",
    "np.dot(weights.T, np.dot(l_cov,weights)) *250 "
   ]
  },
  {
   "cell_type": "code",
   "execution_count": 35,
   "metadata": {},
   "outputs": [
    {
     "data": {
      "text/plain": [
       "0.15500787859019308"
      ]
     },
     "execution_count": 35,
     "metadata": {},
     "output_type": "execute_result"
    }
   ],
   "source": [
    "#Expected volatility in one year\n",
    "np.sqrt(np.dot(weights.T,np.dot(l_cov,weights))*250) "
   ]
  },
  {
   "cell_type": "markdown",
   "metadata": {},
   "source": [
    "# Now lets simulate 10.000 possible combinations of this 4 assets in diferent proportions, and then plot the return and the volatility."
   ]
  },
  {
   "cell_type": "code",
   "execution_count": 36,
   "metadata": {},
   "outputs": [],
   "source": [
    "test_return=[]\n",
    "test_vol=[]\n",
    "for x in range(10000):\n",
    "    weights= np.random.random(4)\n",
    "    weights/=np.sum(weights)\n",
    "    weights\n",
    "    \n",
    "    test_return.append(np.sum(weights*l_mean) *250)\n",
    "    test_vol.append(np.sqrt(np.dot(weights.T,np.dot(l_cov,weights))*250))"
   ]
  },
  {
   "cell_type": "code",
   "execution_count": 37,
   "metadata": {},
   "outputs": [],
   "source": [
    "returns=np.array(test_return)\n",
    "volatilities=np.array(test_vol)\n",
    "test_port=pd.DataFrame({\"Return\":returns,\"Volatility\":volatilities})"
   ]
  },
  {
   "cell_type": "code",
   "execution_count": 38,
   "metadata": {},
   "outputs": [
    {
     "data": {
      "text/html": [
       "<div>\n",
       "<style scoped>\n",
       "    .dataframe tbody tr th:only-of-type {\n",
       "        vertical-align: middle;\n",
       "    }\n",
       "\n",
       "    .dataframe tbody tr th {\n",
       "        vertical-align: top;\n",
       "    }\n",
       "\n",
       "    .dataframe thead th {\n",
       "        text-align: right;\n",
       "    }\n",
       "</style>\n",
       "<table border=\"1\" class=\"dataframe\">\n",
       "  <thead>\n",
       "    <tr style=\"text-align: right;\">\n",
       "      <th></th>\n",
       "      <th>Return</th>\n",
       "      <th>Volatility</th>\n",
       "    </tr>\n",
       "  </thead>\n",
       "  <tbody>\n",
       "    <tr>\n",
       "      <th>0</th>\n",
       "      <td>0.203103</td>\n",
       "      <td>0.177906</td>\n",
       "    </tr>\n",
       "    <tr>\n",
       "      <th>1</th>\n",
       "      <td>0.201821</td>\n",
       "      <td>0.174465</td>\n",
       "    </tr>\n",
       "    <tr>\n",
       "      <th>2</th>\n",
       "      <td>0.157151</td>\n",
       "      <td>0.165475</td>\n",
       "    </tr>\n",
       "    <tr>\n",
       "      <th>3</th>\n",
       "      <td>0.148583</td>\n",
       "      <td>0.154892</td>\n",
       "    </tr>\n",
       "    <tr>\n",
       "      <th>4</th>\n",
       "      <td>0.150703</td>\n",
       "      <td>0.157141</td>\n",
       "    </tr>\n",
       "  </tbody>\n",
       "</table>\n",
       "</div>"
      ],
      "text/plain": [
       "     Return  Volatility\n",
       "0  0.203103    0.177906\n",
       "1  0.201821    0.174465\n",
       "2  0.157151    0.165475\n",
       "3  0.148583    0.154892\n",
       "4  0.150703    0.157141"
      ]
     },
     "execution_count": 38,
     "metadata": {},
     "output_type": "execute_result"
    }
   ],
   "source": [
    "test_port.head()"
   ]
  },
  {
   "cell_type": "code",
   "execution_count": 39,
   "metadata": {},
   "outputs": [],
   "source": [
    "test_port[\"Ratio\"]=test_port[\"Return\"]/test_port[\"Volatility\"]"
   ]
  },
  {
   "cell_type": "code",
   "execution_count": 42,
   "metadata": {},
   "outputs": [
    {
     "data": {
      "text/plain": [
       "1.2072886969651464"
      ]
     },
     "execution_count": 42,
     "metadata": {},
     "output_type": "execute_result"
    }
   ],
   "source": [
    "max(test_port[\"Ratio\"])"
   ]
  },
  {
   "cell_type": "code",
   "execution_count": 40,
   "metadata": {},
   "outputs": [
    {
     "data": {
      "text/plain": [
       "Text(0, 0.5, 'Expected Return')"
      ]
     },
     "execution_count": 40,
     "metadata": {},
     "output_type": "execute_result"
    },
    {
     "data": {
      "image/png": "[encoded data removed]",
      "text/plain": [
       "<Figure size 720x432 with 1 Axes>"
      ]
     },
     "metadata": {
      "needs_background": "light"
     },
     "output_type": "display_data"
    }
   ],
   "source": [
    "test_port.plot(x=\"Volatility\", y=\"Return\", kind=\"scatter\", figsize=(10,6))\n",
    "plt.xlabel(\"Expected Volatility\")\n",
    "plt.ylabel(\"Expected Return\")"
   ]
  }
 ],
 "metadata": {
  "kernelspec": {
   "display_name": "Python 3",
   "language": "python",
   "name": "python3"
  },
  "language_info": {
   "codemirror_mode": {
    "name": "ipython",
    "version": 3
   },
   "file_extension": ".py",
   "mimetype": "text/x-python",
   "name": "python",
   "nbconvert_exporter": "python",
   "pygments_lexer": "ipython3",
   "version": "3.7.6"
  }
 },
 "nbformat": 4,
 "nbformat_minor": 4
}
